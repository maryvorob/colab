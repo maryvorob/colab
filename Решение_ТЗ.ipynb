{
  "nbformat": 4,
  "nbformat_minor": 0,
  "metadata": {
    "colab": {
      "name": "Решение ТЗ.ipynb",
      "provenance": [],
      "collapsed_sections": [],
      "include_colab_link": true
    },
    "kernelspec": {
      "name": "python3",
      "display_name": "Python 3"
    }
  },
  "cells": [
    {
      "cell_type": "markdown",
      "metadata": {
        "id": "view-in-github",
        "colab_type": "text"
      },
      "source": [
        "<a href=\"https://colab.research.google.com/github/maryvorob/colab/blob/master/%D0%A0%D0%B5%D1%88%D0%B5%D0%BD%D0%B8%D0%B5_%D0%A2%D0%97.ipynb\" target=\"_parent\"><img src=\"https://colab.research.google.com/assets/colab-badge.svg\" alt=\"Open In Colab\"/></a>"
      ]
    },
    {
      "cell_type": "markdown",
      "metadata": {
        "id": "EWIia3Oa6Cy3",
        "colab_type": "text"
      },
      "source": [
        "###**1. Какая разница между двойными и одинарными кавычками в SQL?**\n",
        "\n",
        "> Двойные кавычки предназначены для названий (имен таблиц или полей).\n",
        "Одиночные кавычки предназначены для переменных (строковых констант).\n",
        "\n",
        "**1.1. В каких местах какие кавычки здесь можно поставить?**\n",
        "\n",
        "**select * from public.users where public.users.id = 1**\n",
        "\n",
        "```\n",
        "    select * \n",
        "    from \"public\".\"users\" \n",
        "    where \"public\".\"users\".\"id\" = 1\n",
        "```\n",
        "\n"
      ]
    },
    {
      "cell_type": "markdown",
      "metadata": {
        "id": "h_9Q8pwE6Dbf",
        "colab_type": "text"
      },
      "source": [
        "###**2. В чём разница между UNION ALL и UNION, и какой из них работает быстрее?**\n",
        "> UNION и UNION ALL объединяют результат двух разных SQL-запросов. \n",
        "  Они отличаются тем, как они обрабатывают дубликаты. \n",
        "  UNION выполняет DISTINCT в результирующем наборе, исключая любые повторяющиеся строки. \n",
        "  UNION ALL не удаляет дубликаты и поэтому работает быстрее, чем UNION.\n",
        "\n",
        "**2.1. Какие могут быть практические способы применения одного и другого?**\n",
        "> UNION  и UNION ALL используются для нахождения общего результата запроса из разных таблиц и полей (ивентов/товаров и так далее) с одинковым типом данных. Например объединение таблиц по разным годам или по разным типам товаров.\n"
      ]
    },
    {
      "cell_type": "markdown",
      "metadata": {
        "id": "xQb4WC6_6DnR",
        "colab_type": "text"
      },
      "source": [
        "###**3. Каким образом в PostgreSQL вы преобразуете IPv4 адрес (хранится в типе inet) в десятичное представление IP-адреса?**\n",
        "\n",
        "\n",
        "```\n",
        "CREATE OR REPLACE FUNCTION ip2int(\n",
        "  ip INET\n",
        ") RETURNS BIGINT AS $$\n",
        "WITH\n",
        "  t AS (\n",
        "    SELECT\n",
        "      (col[1] :: INT * 256 ^ (row_number() OVER () - 1)) :: BIGINT AS num\n",
        "    FROM REGEXP_MATCHES($1 :: VARCHAR, '(\\d+)', 'g') AS t(col)\n",
        "  )\n",
        "SELECT\n",
        "  sum(num) :: BIGINT AS ip_int\n",
        "FROM t\n",
        "$$ LANGUAGE SQL;\n",
        "```\n",
        "\n"
      ]
    },
    {
      "cell_type": "markdown",
      "metadata": {
        "id": "YP8hYO_G6DFY",
        "colab_type": "text"
      },
      "source": [
        "###**4. У вас есть таблицы carts (с корзинами пользователей) и cart_items (с товарами в корзине).**\n",
        "\n",
        "**Структура таблиц:** \n",
        "\n",
        "**carts**\n",
        "\n",
        "*id*  - первичный ключ\n",
        "\n",
        "*state* - статус корзины, принимает значения pending, successful, canceled\n",
        "\n",
        "*created_at* - timestamp создания корзины\n",
        "\n",
        "*purchased_at* - timestamp оплаты корзины\n",
        "\n",
        "*user_id* - внешний ключ к таблице users\n",
        "\n",
        " \n",
        "**cart_items**\n",
        "\n",
        "*id* - первичный ключ\n",
        "\n",
        "*cart_id* - внешний ключ к таблице carts\n",
        "\n",
        "*created_at* - timestamp добавления товара в корзину\n",
        "\n",
        "*price* - стоимость товара\n",
        "\n",
        "**Напишите SQL-запрос, который выведет по каждому пользователю дату и сумму первой покупки. Столбцы в выводе: user_id, date (в формате 30.01.2019), cart_amount.**\n",
        "```\n",
        "WITH first_orders AS (\n",
        "  SELECT user_id,\n",
        "         MIN(purchased_at) AS purchased_at\n",
        "  FROM carts\n",
        "  GROUP BY 1\n",
        "                      )\n",
        "SELECT user_id,\n",
        "       purchased_at :: DATE AS date,\n",
        "       sum(price) AS cart_amount\n",
        "FROM first_orders fo\n",
        "INNER JOIN carts\n",
        "  ON fo.user_id = carts.user_id AND fo.purchased_at = carts.purchased_at\n",
        "LEFT JOIN cart_items\n",
        "  ON cart_id = carts.id\n",
        "GROUP BY 1, 2\n",
        "```\n",
        "\n"
      ]
    },
    {
      "cell_type": "markdown",
      "metadata": {
        "id": "_L8rILJF6DQp",
        "colab_type": "text"
      },
      "source": [
        "###**5. У вас есть таблица с транзакциями, поля в столбце payment_params в ней заполняются ответом по API от платёжной системы.**\n",
        "\n",
        "{\"date\": 1561320934601, \"amount\": 566697, \"bankInfo\": {\"bankCountryCode\": \"UNKNOWN\", \"bankCountryName\": \"<Неизвестно>\"}, \"currency\": \"643\", \"errorCode\": \"0\", \"actionCode\": 0, \"attributes\": [{\"name\": \"mdOrder\", \"value\": \"95f4b417-e544-7779-a1bf-77140015f31f\"}], \"terminalId\": \"20910698\", \"orderBundle\": {\"cartItems\": {\"items\": [{\"name\": \"Физика. Занимательная астрономия. 5–9 классы. Стандартный доступ\", \"itemCode\": \"courses/1005\", \"quantity\": {\"value\": 1.0, \"measure\": \"шт\"}, \"itemAmount\": 62404, \"positionId\": \"1\", \"itemCurrency\": 643}, {\"name\": \"Физика. Курс экспериментальной физики. 7 класс. Премиум доступ\", \"itemCode\": \"courses/1441\", \"quantity\": {\"value\": 1.0, \"measure\": \"шт\"}, \"itemAmount\": 498059, \"positionId\": \"2\", \"itemCurrency\": 643}]}, \"customerDetails\": {\"email\": \"email@mail.ru\", \"phone\": \"880055553535\"}, \"orderCreationDate\": 1561320000}, \"orderNumber\": \"462374\", \"orderStatus\": 2, \"authDateTime\": 1561335081887, \"errorMessage\": \"Успешно\", \"orderDescription\": \"\", \"paymentAmountInfo\": {\"paymentState\": \"DEPOSITED\", \"approvedAmount\": 0, \"refundedAmount\": 0, \"depositedAmount\": 566697}, \"merchantOrderParams\": [{\"name\": \"phone\", \"value\": \"88005553535\"}, {\"name\": \"initialAmount\", \"value\": \"573000\"}, {\"name\": \"ProductType\", \"value\": \"INSTALLMENT\"}, {\"name\": \"ProductID\", \"value\": \"10\"}, {\"name\": \"registerOrderId\", \"value\": \"b284708d-2f0e-4ce2-9d61-9190468dd362\"}], \"actionCodeDescription\": \"\"}\n",
        "\n",
        "**Опишите, как вы получите для каждой транзакции строку с названиями товаров, которые были в этой транзакции.**\n"
      ]
    },
    {
      "cell_type": "code",
      "metadata": {
        "id": "bSIQB5vJ4Ykj",
        "colab_type": "code",
        "outputId": "63c09213-91d9-46ed-f9c8-c514a09aa539",
        "colab": {
          "base_uri": "https://localhost:8080/",
          "height": 51
        }
      },
      "source": [
        "import json\n",
        "api_response = '{\"date\": 1561320934601, \"amount\": 566697, \"bankInfo\": {\"bankCountryCode\": \"UNKNOWN\", \"bankCountryName\": \"<Неизвестно>\"}, \"currency\": \"643\", \"errorCode\": \"0\", \"actionCode\": 0, \"attributes\": [{\"name\": \"mdOrder\", \"value\": \"95f4b417-e544-7779-a1bf-77140015f31f\"}], \"terminalId\": \"20910698\", \"orderBundle\": {\"cartItems\": {\"items\": [{\"name\": \"Физика. Занимательная астрономия. 5–9 классы. Стандартный доступ\", \"itemCode\": \"courses/1005\", \"quantity\": {\"value\": 1.0, \"measure\": \"шт\"}, \"itemAmount\": 62404, \"positionId\": \"1\", \"itemCurrency\": 643}, {\"name\": \"Физика. Курс экспериментальной физики. 7 класс. Премиум доступ\", \"itemCode\": \"courses/1441\", \"quantity\": {\"value\": 1.0, \"measure\": \"шт\"}, \"itemAmount\": 498059, \"positionId\": \"2\", \"itemCurrency\": 643}]}, \"customerDetails\": {\"email\": \"email@mail.ru\", \"phone\": \"880055553535\"}, \"orderCreationDate\": 1561320000}, \"orderNumber\": \"462374\", \"orderStatus\": 2, \"authDateTime\": 1561335081887, \"errorMessage\": \"Успешно\", \"orderDescription\": \"\", \"paymentAmountInfo\": {\"paymentState\": \"DEPOSITED\", \"approvedAmount\": 0, \"refundedAmount\": 0, \"depositedAmount\": 566697}, \"merchantOrderParams\": [{\"name\": \"phone\", \"value\": \"88005553535\"}, {\"name\": \"initialAmount\", \"value\": \"573000\"}, {\"name\": \"ProductType\", \"value\": \"INSTALLMENT\"}, {\"name\": \"ProductID\", \"value\": \"10\"}, {\"name\": \"registerOrderId\", \"value\": \"b284708d-2f0e-4ce2-9d61-9190468dd362\"}], \"actionCodeDescription\": \"\"}'\n",
        "j = json.loads(api_response)\n",
        "names = []\n",
        "for item in j['orderBundle']['cartItems']['items']:\n",
        "    names.append(item['name'])\n",
        "names"
      ],
      "execution_count": 0,
      "outputs": [
        {
          "output_type": "execute_result",
          "data": {
            "text/plain": [
              "['Физика. Занимательная астрономия. 5–9 классы. Стандартный доступ',\n",
              " 'Физика. Курс экспериментальной физики. 7 класс. Премиум доступ']"
            ]
          },
          "metadata": {
            "tags": []
          },
          "execution_count": 1
        }
      ]
    }
  ]
}